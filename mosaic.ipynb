{
 "metadata": {
  "language_info": {
   "codemirror_mode": {
    "name": "ipython",
    "version": 3
   },
   "file_extension": ".py",
   "mimetype": "text/x-python",
   "name": "python",
   "nbconvert_exporter": "python",
   "pygments_lexer": "ipython3",
   "version": "3.7.6"
  },
  "orig_nbformat": 2,
  "kernelspec": {
   "name": "python3",
   "display_name": "Python 3.7.6 64-bit ('base': conda)",
   "metadata": {
    "interpreter": {
     "hash": "a30770ab81a9ab6573aa232d09de08497b6dbff5ddc279930aae65345fad5c2f"
    }
   }
  }
 },
 "nbformat": 4,
 "nbformat_minor": 2,
 "cells": [
  {
   "cell_type": "code",
   "execution_count": null,
   "metadata": {},
   "outputs": [],
   "source": [
    "import numpy as np\n",
    "import pandas as pd\n",
    "from math import floor, sqrt\n",
    "from PIL import Image, ImageFilter, ImageDraw, ImageOps, ImageStat\n",
    "from tqdm import tqdm\n",
    "import os\n",
    "import glob\n",
    "import os"
   ]
  },
  {
   "cell_type": "code",
   "execution_count": null,
   "metadata": {},
   "outputs": [],
   "source": [
    "username = 'your username' #username of account you want to mosaic"
   ]
  },
  {
   "cell_type": "code",
   "execution_count": null,
   "metadata": {},
   "outputs": [],
   "source": [
    "!instagram-scraper username"
   ]
  },
  {
   "cell_type": "code",
   "execution_count": null,
   "metadata": {},
   "outputs": [],
   "source": [
    "try:\n",
    "    os.mkdir(os.getcwd()+'/black/')\n",
    "    os.mkdir(os.getcwd()+'/target sections/')\n",
    "    os.mkdir(os.getcwd()+'/filler sections/')\n",
    "except OSError:\n",
    "    print (\"Creation of the directory failed\")\n",
    "else:\n",
    "    print (\"Successfully created directory\")"
   ]
  },
  {
   "cell_type": "code",
   "execution_count": null,
   "metadata": {},
   "outputs": [],
   "source": [
    "#removes mp4 files leaving only jpg\n",
    "file_list = glob.glob(username + '/*.jpg') \n",
    "for file_path in tqdm(file_list):\n",
    "    try:\n",
    "        os.remove(file_path)\n",
    "    except:\n",
    "        print(\"Error while deleting file : \", file_path)"
   ]
  },
  {
   "cell_type": "code",
   "execution_count": null,
   "metadata": {},
   "outputs": [],
   "source": [
    "#crop to square\n",
    "def crop_max_square(pil_img):\n",
    "    return crop_center(pil_img, min(pil_img.size), min(pil_img.size))\n",
    "\n",
    "\n",
    "def crop_center(pil_img, crop_width, crop_height):\n",
    "    img_width, img_height = pil_img.size\n",
    "    return pil_img.crop(((img_width - crop_width) // 2,\n",
    "                         (img_height - crop_height) // 2,\n",
    "                         (img_width + crop_width) // 2,\n",
    "                         (img_height + crop_height) // 2))"
   ]
  },
  {
   "cell_type": "code",
   "execution_count": null,
   "metadata": {
    "tags": []
   },
   "outputs": [],
   "source": [
    "file_list = glob.glob(username + '/*.jpg')\n",
    "num = 0\n",
    "\n",
    "#for i in tqdm(range(5)):  can use to create duplicate photos to raise resolution\n",
    "for file in tqdm(file_list):\n",
    "    im = Image.open(file)\n",
    "    im = crop_max_square(im).convert('L')\n",
    "    im.save('black/' + str(num) + \".jpg\")\n",
    "    num+=1"
   ]
  },
  {
   "source": [
    "instruction: set image to mosaic as target.jpg in mosaic folder"
   ],
   "cell_type": "markdown",
   "metadata": {}
  },
  {
   "cell_type": "code",
   "execution_count": null,
   "metadata": {},
   "outputs": [],
   "source": [
    "def get_mosaic_resolution():\n",
    "    file_list = glob.glob('black/*.jpg')\n",
    "    return floor(sqrt(len(file_list)))"
   ]
  },
  {
   "cell_type": "code",
   "execution_count": null,
   "metadata": {},
   "outputs": [],
   "source": [
    "def get_target_resolution(mosaic_resolution):\n",
    "    target_size = min(Image.open('target.jpg').size)\n",
    "    return (target_size//mosaic_resolution)*mosaic_resolution"
   ]
  },
  {
   "cell_type": "code",
   "execution_count": null,
   "metadata": {
    "tags": []
   },
   "outputs": [],
   "source": [
    "mosaic_res =  get_mosaic_resolution()\n",
    "resolution = get_target_resolution(mosaic_res)\n",
    "section_size = resolution // mosaic_res\n",
    "\n",
    "target = Image.open('target.jpg')\n",
    "target = crop_max_square(target)\n",
    "target = target.rotate(270).convert('L')\n",
    "\n",
    "\n",
    "#cuts out sections from target and deposites in target sections folder\n",
    "for i in range(mosaic_res**2):\n",
    "    section = target.crop(((i*section_size)%resolution,floor(i/mosaic_res)*section_size ,(i*section_size)%resolution + section_size,floor(i/mosaic_res)*section_size+section_size))\n",
    "    section.save('target sections/' + str(i) + '.jpg')\n",
    "\n",
    "\n",
    "# makes thumbnails and deposits in filler sections folder\n",
    "file_list = glob.glob('black/*.jpg')\n",
    "for i, file in tqdm(enumerate(file_list[:mosaic_res**2])):\n",
    "    im = Image.open(str(file))\n",
    "    im.thumbnail((round(resolution / mosaic_res),round(resolution / mosaic_res)))\n",
    "    im.save('filler sections/' + str(i) + \".jpg\")\n",
    "   \n"
   ]
  },
  {
   "cell_type": "code",
   "execution_count": null,
   "metadata": {},
   "outputs": [],
   "source": [
    "def average(im):\n",
    "    return ImageStat.Stat(im).sum[0]/ImageStat.Stat(im).count[0]"
   ]
  },
  {
   "cell_type": "code",
   "execution_count": null,
   "metadata": {},
   "outputs": [],
   "source": [
    "def makeDictionary(filepath,num_items):\n",
    "    brightness = {}\n",
    "    for i in range(num_items+1):\n",
    "        im = Image.open(filepath+str(i)+'.jpg')\n",
    "        brightness[i]=average(im)\n",
    "    return brightness"
   ]
  },
  {
   "cell_type": "code",
   "execution_count": null,
   "metadata": {},
   "outputs": [],
   "source": [
    "list_filler = makeDictionary('filler sections/',(mosaic_res**2)-1)\n",
    "list_target = makeDictionary('target sections/',(mosaic_res**2)-1)\n",
    "\n",
    "sorted_filler = dict(sorted(list_filler.items(), key=lambda item: item[1]))\n",
    "sorted_target = dict(sorted(list_target.items(), key=lambda item: item[1]))\n",
    "\n",
    "#creates a dictionary with target segments as keys with the closest matching filler segment as value\n",
    "ordered_pairs= {}\n",
    "for i in tqdm(range(len(sorted_filler))):\n",
    "    ordered_pairs[list(sorted_target)[i]]=list(sorted_filler)[i]\n"
   ]
  },
  {
   "cell_type": "code",
   "execution_count": null,
   "metadata": {},
   "outputs": [],
   "source": [
    "\n",
    "def Print_mosaic(ordered_pairs):\n",
    "    im_size = Image.open('filler sections/0.jpg').size[0]\n",
    "    new_image = Image.new('L',(mosaic_res*im_size, mosaic_res*im_size))\n",
    "  \n",
    "    for i in ordered_pairs:\n",
    "        im = Image.open('filler sections/' + str(ordered_pairs[i]) + '.jpg')\n",
    "        new_image.paste(im,((i*section_size)%resolution,floor(i/mosaic_res)*section_size))\n",
    "\n",
    "    transparent_overlay = target\n",
    "    transparent_overlay.putalpha(140)\n",
    "    new_image.paste(transparent_overlay,(0,0),transparent_overlay.convert('RGBA'))\n",
    "    new_image.show()\n",
    "    new_image.save('output.jpg')"
   ]
  },
  {
   "cell_type": "code",
   "execution_count": null,
   "metadata": {},
   "outputs": [],
   "source": [
    "Print_mosaic(ordered_pairs)"
   ]
  },
  {
   "cell_type": "code",
   "execution_count": null,
   "metadata": {},
   "outputs": [],
   "source": []
  }
 ]
}